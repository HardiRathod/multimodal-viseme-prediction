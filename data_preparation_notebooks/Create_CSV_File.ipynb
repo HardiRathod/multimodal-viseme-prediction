{
  "nbformat": 4,
  "nbformat_minor": 0,
  "metadata": {
    "colab": {
      "name": "Create_CSV_File.ipynb",
      "provenance": [],
      "collapsed_sections": []
    },
    "kernelspec": {
      "name": "python3",
      "display_name": "Python 3"
    },
    "language_info": {
      "name": "python"
    }
  },
  "cells": [
    {
      "cell_type": "code",
      "execution_count": null,
      "metadata": {
        "id": "iBA8f-zff7D_"
      },
      "outputs": [],
      "source": [
        "import pandas as pd\n",
        "import glob\n",
        "import re"
      ]
    },
    {
      "cell_type": "code",
      "source": [
        "!pip install num2words"
      ],
      "metadata": {
        "colab": {
          "base_uri": "https://localhost:8080/"
        },
        "id": "cBK0BlTTgGo9",
        "outputId": "d4c3fbe1-db7e-48ce-e80a-740391877296"
      },
      "execution_count": null,
      "outputs": [
        {
          "output_type": "stream",
          "name": "stdout",
          "text": [
            "Collecting num2words\n",
            "  Downloading num2words-0.5.10-py3-none-any.whl (101 kB)\n",
            "\u001b[?25l\r\u001b[K     |███▎                            | 10 kB 24.3 MB/s eta 0:00:01\r\u001b[K     |██████▌                         | 20 kB 29.9 MB/s eta 0:00:01\r\u001b[K     |█████████▊                      | 30 kB 14.2 MB/s eta 0:00:01\r\u001b[K     |█████████████                   | 40 kB 10.0 MB/s eta 0:00:01\r\u001b[K     |████████████████▏               | 51 kB 7.1 MB/s eta 0:00:01\r\u001b[K     |███████████████████▍            | 61 kB 8.3 MB/s eta 0:00:01\r\u001b[K     |██████████████████████▋         | 71 kB 7.7 MB/s eta 0:00:01\r\u001b[K     |█████████████████████████▉      | 81 kB 7.2 MB/s eta 0:00:01\r\u001b[K     |█████████████████████████████   | 92 kB 8.0 MB/s eta 0:00:01\r\u001b[K     |████████████████████████████████| 101 kB 5.6 MB/s \n",
            "\u001b[?25hRequirement already satisfied: docopt>=0.6.2 in /usr/local/lib/python3.7/dist-packages (from num2words) (0.6.2)\n",
            "Installing collected packages: num2words\n",
            "Successfully installed num2words-0.5.10\n"
          ]
        }
      ]
    },
    {
      "cell_type": "code",
      "source": [
        "from num2words import num2words\n"
      ],
      "metadata": {
        "id": "y-sw1Lq3hpNW"
      },
      "execution_count": null,
      "outputs": []
    },
    {
      "cell_type": "code",
      "source": [
        "import inflect"
      ],
      "metadata": {
        "id": "SUwrzhRfgkR-"
      },
      "execution_count": null,
      "outputs": []
    },
    {
      "cell_type": "code",
      "source": [
        "p = inflect.engine()"
      ],
      "metadata": {
        "id": "53XAVPy7gl6F"
      },
      "execution_count": null,
      "outputs": []
    },
    {
      "cell_type": "code",
      "source": [
        "%cd /content/drive/MyDrive/Masters in Computer Science/Masters in Computer Science/Spring 2022/Project/data/raw_audio"
      ],
      "metadata": {
        "colab": {
          "base_uri": "https://localhost:8080/"
        },
        "id": "9op4hJURmVDC",
        "outputId": "4705cfd2-6e2f-4d29-c8bb-8ee1a52fbbda"
      },
      "execution_count": null,
      "outputs": [
        {
          "output_type": "stream",
          "name": "stdout",
          "text": [
            "/content/drive/MyDrive/Masters in Computer Science/Masters in Computer Science/Spring 2022/Project/data/raw_audio\n"
          ]
        }
      ]
    },
    {
      "cell_type": "code",
      "source": [
        "import wave\n",
        "import contextlib\n",
        "import os\n",
        "fname = './'\n",
        "fold1 = os.listdir(fname)\n",
        "fold1.sort()\n",
        "for foldername in fold1:\n",
        "    foldername_n = foldername+\"/sentences/wav/\"\n",
        "    if(foldername)==\".DS_Store\":\n",
        "        continue\n",
        "    f_n = os.path.join(fname, foldername_n)\n",
        "    fold2 = os.listdir(f_n)\n",
        "    fold2.sort()\n",
        "    total_dur_ses =0\n",
        "    for subfolder in fold2:\n",
        "        if(subfolder)==\".DS_Store\":\n",
        "            continue\n",
        "        f_n2 = os.path.join(f_n, subfolder)\n",
        "        total_dur =0\n",
        "        fold3 = os.listdir(f_n2)\n",
        "        fold3.sort()\n",
        "        for ses in fold3:\n",
        "            if(ses)==\".DS_Store\":\n",
        "                continue\n",
        "            f_n3 = os.path.join(f_n2, ses)\n",
        "            with contextlib.closing(wave.open(f_n3,'r')) as f:\n",
        "                frames = f.getnframes()\n",
        "                rate = f.getframerate()\n",
        "                duration = frames / float(rate)\n",
        "                # print(f_n3,\" Segment Duration : \", duration)\n",
        "                total_dur+=duration\n",
        "        total_dur_ses += total_dur\n",
        "        # print(f_n2,\" Session Duration \",float(total_dur/60))\n",
        "    print(f_n,\" Session Duration \",float(total_dur_ses/3600))"
      ],
      "metadata": {
        "colab": {
          "base_uri": "https://localhost:8080/"
        },
        "id": "RsZx9YPemzHi",
        "outputId": "2dd9c1a8-9054-44f6-f2f1-f2380d49e612"
      },
      "execution_count": null,
      "outputs": [
        {
          "output_type": "stream",
          "name": "stdout",
          "text": [
            "./Session1/sentences/wav/  Session Duration  2.3219078993055553\n",
            "./Session2/sentences/wav/  Session Duration  2.2700432291666672\n",
            "./Session3/sentences/wav/  Session Duration  2.627555677083333\n",
            "./Session4/sentences/wav/  Session Duration  2.577961458333334\n",
            "./Session5/sentences/wav/  Session Duration  2.639955086805556\n"
          ]
        }
      ]
    },
    {
      "cell_type": "code",
      "source": [
        "!ls"
      ],
      "metadata": {
        "colab": {
          "base_uri": "https://localhost:8080/"
        },
        "id": "zj-dLHatBoAN",
        "outputId": "7d8f364a-830c-46ac-90c9-317105cc531d"
      },
      "execution_count": null,
      "outputs": [
        {
          "output_type": "stream",
          "name": "stdout",
          "text": [
            "Session1  Session2  Session3  Session4\tSession5\n"
          ]
        }
      ]
    },
    {
      "cell_type": "code",
      "source": [
        "p.number_to_words(\"Hello\")"
      ],
      "metadata": {
        "colab": {
          "base_uri": "https://localhost:8080/",
          "height": 35
        },
        "id": "IQ-j_Cn7hV_t",
        "outputId": "a78c44f0-1dd4-42b5-81d7-831c2d671e05"
      },
      "execution_count": null,
      "outputs": [
        {
          "output_type": "execute_result",
          "data": {
            "text/plain": [
              "'zero'"
            ],
            "application/vnd.google.colaboratory.intrinsic+json": {
              "type": "string"
            }
          },
          "metadata": {},
          "execution_count": 10
        }
      ]
    },
    {
      "cell_type": "code",
      "source": [
        "path_1 = 'Session1/sentences/wav'\n",
        "path_2 = '../text'\n",
        "audio_file_list = glob.glob(path_1 + '/Ses*/*.wav')\n",
        "text_file_list = glob.glob(path_2 + '/Ses*/*.txt')"
      ],
      "metadata": {
        "id": "cOii8mZJB0yD"
      },
      "execution_count": null,
      "outputs": []
    },
    {
      "cell_type": "code",
      "source": [
        "import os\n",
        "os.path.exists(path_1)"
      ],
      "metadata": {
        "colab": {
          "base_uri": "https://localhost:8080/"
        },
        "id": "RI0tOSUmB48K",
        "outputId": "4d05c1ca-f45a-4dd7-ce7c-13bb49e69af2"
      },
      "execution_count": null,
      "outputs": [
        {
          "output_type": "execute_result",
          "data": {
            "text/plain": [
              "True"
            ]
          },
          "metadata": {},
          "execution_count": 28
        }
      ]
    },
    {
      "cell_type": "code",
      "source": [
        "text_file_list"
      ],
      "metadata": {
        "id": "0Vtu1AUICvel"
      },
      "execution_count": null,
      "outputs": []
    },
    {
      "cell_type": "code",
      "source": [
        "audio_file_list"
      ],
      "metadata": {
        "id": "CI_frUNICoSK"
      },
      "execution_count": null,
      "outputs": []
    },
    {
      "cell_type": "code",
      "source": [
        "!mkdir -p ../complete_files"
      ],
      "metadata": {
        "id": "TJErc4PADNNa"
      },
      "execution_count": null,
      "outputs": []
    },
    {
      "cell_type": "code",
      "source": [
        "save_path = '../complete_files/'\n",
        "import shutil\n",
        "final_df = pd.DataFrame()\n",
        "df_list = []\n",
        "for i in audio_file_list:\n",
        "  print(\"Here\")\n",
        "  filename = i.split('/')[-1].split('.wav')[0]\n",
        "  prospect_text_file = '../text/Ses01/' + filename + '.txt'\n",
        "  if prospect_text_file not in text_file_list:\n",
        "    continue\n",
        "  else:\n",
        "    # read the text fil\n",
        "\n",
        "\n",
        "    with open(prospect_text_file) as f_input:\n",
        "        text = f_input.read()\n",
        "\n",
        "    text = re.sub(r\"(\\d+)\", lambda x: num2words.num2words(int(x.group(0))), text)\n",
        "    f_input.close()\n",
        "\n",
        "    with open(save_path + filename + '.txt' , 'w') as f_output:\n",
        "        f_output.write(text)\n",
        "    f_output.close()\n",
        "    shutil.copy(i, save_path)\n",
        "    df_list.append([filename + '.wav', filename + '.txt'])\n",
        "        \n",
        "    "
      ],
      "metadata": {
        "id": "5x4kqRfigo6Z"
      },
      "execution_count": null,
      "outputs": []
    },
    {
      "cell_type": "code",
      "source": [
        "save_path = '../complete_files/'\n",
        "import shutil\n",
        "path_1 = 'Session2/sentences/wav'\n",
        "path_2 = '../text'\n",
        "audio_file_list = glob.glob(path_1 + '/Ses*/*.wav')\n",
        "text_file_list = glob.glob(path_2 + '/Ses*/*.txt')\n",
        "for i in audio_file_list:\n",
        "  print(\"Here\")\n",
        "  filename = i.split('/')[-1].split('.wav')[0]\n",
        "  prospect_text_file = '../text/Ses02/' + filename + '.txt'\n",
        "  if prospect_text_file not in text_file_list:\n",
        "    continue\n",
        "  else:\n",
        "    # read the text fil\n",
        "\n",
        "\n",
        "    with open(prospect_text_file) as f_input:\n",
        "        text = f_input.read()\n",
        "\n",
        "    text = re.sub(r\"(\\d+)\", lambda x: num2words.num2words(int(x.group(0))), text)\n",
        "    f_input.close()\n",
        "\n",
        "    with open(save_path + filename + '.txt' , 'w') as f_output:\n",
        "        f_output.write(text)\n",
        "    f_output.close()\n",
        "    shutil.copy(i, save_path)\n",
        "    df_list.append([filename + '.wav', filename + '.txt'])\n",
        "        \n",
        "    "
      ],
      "metadata": {
        "id": "1pIo-VPTI_5r"
      },
      "execution_count": null,
      "outputs": []
    },
    {
      "cell_type": "code",
      "source": [
        "len(df_list)"
      ],
      "metadata": {
        "colab": {
          "base_uri": "https://localhost:8080/"
        },
        "id": "xRuoV9xRCnE_",
        "outputId": "68f060ea-36e9-48c6-b794-c345a6f2dd0b"
      },
      "execution_count": null,
      "outputs": [
        {
          "output_type": "execute_result",
          "data": {
            "text/plain": [
              "3630"
            ]
          },
          "metadata": {},
          "execution_count": 38
        }
      ]
    },
    {
      "cell_type": "code",
      "source": [
        "df = pd.DataFrame(df_list, columns = ['audio', 'text'])"
      ],
      "metadata": {
        "id": "FLybhoREES9S"
      },
      "execution_count": null,
      "outputs": []
    },
    {
      "cell_type": "code",
      "source": [
        "df"
      ],
      "metadata": {
        "colab": {
          "base_uri": "https://localhost:8080/",
          "height": 423
        },
        "id": "p8aWVWLsM_Yh",
        "outputId": "c72c24db-c29f-4edc-a891-98e17d53c0f6"
      },
      "execution_count": null,
      "outputs": [
        {
          "output_type": "execute_result",
          "data": {
            "text/plain": [
              "                           audio                        text\n",
              "0        Ses01F_impro05_M004.wav     Ses01F_impro05_M004.txt\n",
              "1        Ses01F_impro05_M030.wav     Ses01F_impro05_M030.txt\n",
              "2        Ses01F_impro05_M008.wav     Ses01F_impro05_M008.txt\n",
              "3        Ses01F_impro05_M014.wav     Ses01F_impro05_M014.txt\n",
              "4        Ses01F_impro05_F007.wav     Ses01F_impro05_F007.txt\n",
              "...                          ...                         ...\n",
              "3625  Ses02M_script03_2_M044.wav  Ses02M_script03_2_M044.txt\n",
              "3626  Ses02M_script03_2_M045.wav  Ses02M_script03_2_M045.txt\n",
              "3627  Ses02M_script03_2_M047.wav  Ses02M_script03_2_M047.txt\n",
              "3628  Ses02M_script03_2_M046.wav  Ses02M_script03_2_M046.txt\n",
              "3629  Ses02M_script03_2_M043.wav  Ses02M_script03_2_M043.txt\n",
              "\n",
              "[3630 rows x 2 columns]"
            ],
            "text/html": [
              "\n",
              "  <div id=\"df-ddf6c08d-1624-4acb-abdb-96c4e48e25d4\">\n",
              "    <div class=\"colab-df-container\">\n",
              "      <div>\n",
              "<style scoped>\n",
              "    .dataframe tbody tr th:only-of-type {\n",
              "        vertical-align: middle;\n",
              "    }\n",
              "\n",
              "    .dataframe tbody tr th {\n",
              "        vertical-align: top;\n",
              "    }\n",
              "\n",
              "    .dataframe thead th {\n",
              "        text-align: right;\n",
              "    }\n",
              "</style>\n",
              "<table border=\"1\" class=\"dataframe\">\n",
              "  <thead>\n",
              "    <tr style=\"text-align: right;\">\n",
              "      <th></th>\n",
              "      <th>audio</th>\n",
              "      <th>text</th>\n",
              "    </tr>\n",
              "  </thead>\n",
              "  <tbody>\n",
              "    <tr>\n",
              "      <th>0</th>\n",
              "      <td>Ses01F_impro05_M004.wav</td>\n",
              "      <td>Ses01F_impro05_M004.txt</td>\n",
              "    </tr>\n",
              "    <tr>\n",
              "      <th>1</th>\n",
              "      <td>Ses01F_impro05_M030.wav</td>\n",
              "      <td>Ses01F_impro05_M030.txt</td>\n",
              "    </tr>\n",
              "    <tr>\n",
              "      <th>2</th>\n",
              "      <td>Ses01F_impro05_M008.wav</td>\n",
              "      <td>Ses01F_impro05_M008.txt</td>\n",
              "    </tr>\n",
              "    <tr>\n",
              "      <th>3</th>\n",
              "      <td>Ses01F_impro05_M014.wav</td>\n",
              "      <td>Ses01F_impro05_M014.txt</td>\n",
              "    </tr>\n",
              "    <tr>\n",
              "      <th>4</th>\n",
              "      <td>Ses01F_impro05_F007.wav</td>\n",
              "      <td>Ses01F_impro05_F007.txt</td>\n",
              "    </tr>\n",
              "    <tr>\n",
              "      <th>...</th>\n",
              "      <td>...</td>\n",
              "      <td>...</td>\n",
              "    </tr>\n",
              "    <tr>\n",
              "      <th>3625</th>\n",
              "      <td>Ses02M_script03_2_M044.wav</td>\n",
              "      <td>Ses02M_script03_2_M044.txt</td>\n",
              "    </tr>\n",
              "    <tr>\n",
              "      <th>3626</th>\n",
              "      <td>Ses02M_script03_2_M045.wav</td>\n",
              "      <td>Ses02M_script03_2_M045.txt</td>\n",
              "    </tr>\n",
              "    <tr>\n",
              "      <th>3627</th>\n",
              "      <td>Ses02M_script03_2_M047.wav</td>\n",
              "      <td>Ses02M_script03_2_M047.txt</td>\n",
              "    </tr>\n",
              "    <tr>\n",
              "      <th>3628</th>\n",
              "      <td>Ses02M_script03_2_M046.wav</td>\n",
              "      <td>Ses02M_script03_2_M046.txt</td>\n",
              "    </tr>\n",
              "    <tr>\n",
              "      <th>3629</th>\n",
              "      <td>Ses02M_script03_2_M043.wav</td>\n",
              "      <td>Ses02M_script03_2_M043.txt</td>\n",
              "    </tr>\n",
              "  </tbody>\n",
              "</table>\n",
              "<p>3630 rows × 2 columns</p>\n",
              "</div>\n",
              "      <button class=\"colab-df-convert\" onclick=\"convertToInteractive('df-ddf6c08d-1624-4acb-abdb-96c4e48e25d4')\"\n",
              "              title=\"Convert this dataframe to an interactive table.\"\n",
              "              style=\"display:none;\">\n",
              "        \n",
              "  <svg xmlns=\"http://www.w3.org/2000/svg\" height=\"24px\"viewBox=\"0 0 24 24\"\n",
              "       width=\"24px\">\n",
              "    <path d=\"M0 0h24v24H0V0z\" fill=\"none\"/>\n",
              "    <path d=\"M18.56 5.44l.94 2.06.94-2.06 2.06-.94-2.06-.94-.94-2.06-.94 2.06-2.06.94zm-11 1L8.5 8.5l.94-2.06 2.06-.94-2.06-.94L8.5 2.5l-.94 2.06-2.06.94zm10 10l.94 2.06.94-2.06 2.06-.94-2.06-.94-.94-2.06-.94 2.06-2.06.94z\"/><path d=\"M17.41 7.96l-1.37-1.37c-.4-.4-.92-.59-1.43-.59-.52 0-1.04.2-1.43.59L10.3 9.45l-7.72 7.72c-.78.78-.78 2.05 0 2.83L4 21.41c.39.39.9.59 1.41.59.51 0 1.02-.2 1.41-.59l7.78-7.78 2.81-2.81c.8-.78.8-2.07 0-2.86zM5.41 20L4 18.59l7.72-7.72 1.47 1.35L5.41 20z\"/>\n",
              "  </svg>\n",
              "      </button>\n",
              "      \n",
              "  <style>\n",
              "    .colab-df-container {\n",
              "      display:flex;\n",
              "      flex-wrap:wrap;\n",
              "      gap: 12px;\n",
              "    }\n",
              "\n",
              "    .colab-df-convert {\n",
              "      background-color: #E8F0FE;\n",
              "      border: none;\n",
              "      border-radius: 50%;\n",
              "      cursor: pointer;\n",
              "      display: none;\n",
              "      fill: #1967D2;\n",
              "      height: 32px;\n",
              "      padding: 0 0 0 0;\n",
              "      width: 32px;\n",
              "    }\n",
              "\n",
              "    .colab-df-convert:hover {\n",
              "      background-color: #E2EBFA;\n",
              "      box-shadow: 0px 1px 2px rgba(60, 64, 67, 0.3), 0px 1px 3px 1px rgba(60, 64, 67, 0.15);\n",
              "      fill: #174EA6;\n",
              "    }\n",
              "\n",
              "    [theme=dark] .colab-df-convert {\n",
              "      background-color: #3B4455;\n",
              "      fill: #D2E3FC;\n",
              "    }\n",
              "\n",
              "    [theme=dark] .colab-df-convert:hover {\n",
              "      background-color: #434B5C;\n",
              "      box-shadow: 0px 1px 3px 1px rgba(0, 0, 0, 0.15);\n",
              "      filter: drop-shadow(0px 1px 2px rgba(0, 0, 0, 0.3));\n",
              "      fill: #FFFFFF;\n",
              "    }\n",
              "  </style>\n",
              "\n",
              "      <script>\n",
              "        const buttonEl =\n",
              "          document.querySelector('#df-ddf6c08d-1624-4acb-abdb-96c4e48e25d4 button.colab-df-convert');\n",
              "        buttonEl.style.display =\n",
              "          google.colab.kernel.accessAllowed ? 'block' : 'none';\n",
              "\n",
              "        async function convertToInteractive(key) {\n",
              "          const element = document.querySelector('#df-ddf6c08d-1624-4acb-abdb-96c4e48e25d4');\n",
              "          const dataTable =\n",
              "            await google.colab.kernel.invokeFunction('convertToInteractive',\n",
              "                                                     [key], {});\n",
              "          if (!dataTable) return;\n",
              "\n",
              "          const docLinkHtml = 'Like what you see? Visit the ' +\n",
              "            '<a target=\"_blank\" href=https://colab.research.google.com/notebooks/data_table.ipynb>data table notebook</a>'\n",
              "            + ' to learn more about interactive tables.';\n",
              "          element.innerHTML = '';\n",
              "          dataTable['output_type'] = 'display_data';\n",
              "          await google.colab.output.renderOutput(dataTable, element);\n",
              "          const docLink = document.createElement('div');\n",
              "          docLink.innerHTML = docLinkHtml;\n",
              "          element.appendChild(docLink);\n",
              "        }\n",
              "      </script>\n",
              "    </div>\n",
              "  </div>\n",
              "  "
            ]
          },
          "metadata": {},
          "execution_count": 40
        }
      ]
    },
    {
      "cell_type": "code",
      "source": [
        "df.to_csv('../mapping_file.csv', index = False)"
      ],
      "metadata": {
        "id": "PTML6kczNAEQ"
      },
      "execution_count": null,
      "outputs": []
    },
    {
      "cell_type": "code",
      "source": [
        "%cd ..\n"
      ],
      "metadata": {
        "colab": {
          "base_uri": "https://localhost:8080/"
        },
        "id": "wc2lYC65NHZS",
        "outputId": "6397814f-60de-4af6-ed2a-25bc63baca2c"
      },
      "execution_count": null,
      "outputs": [
        {
          "output_type": "stream",
          "name": "stdout",
          "text": [
            "/content/drive/MyDrive/Masters in Computer Science/Masters in Computer Science/Spring 2022/Project/data\n"
          ]
        }
      ]
    },
    {
      "cell_type": "code",
      "source": [
        "!zip -r complete_data.zip complete_files"
      ],
      "metadata": {
        "id": "jIV48L3-NKnI"
      },
      "execution_count": null,
      "outputs": []
    },
    {
      "cell_type": "code",
      "source": [
        ""
      ],
      "metadata": {
        "id": "X77Bg-D8NTnV"
      },
      "execution_count": null,
      "outputs": []
    }
  ]
}
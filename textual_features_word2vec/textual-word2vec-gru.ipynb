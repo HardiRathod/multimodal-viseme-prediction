{
 "cells": [
  {
   "cell_type": "code",
   "execution_count": 29,
   "id": "b2939cda",
   "metadata": {},
   "outputs": [],
   "source": [
    "import pickle\n",
    "from collections import defaultdict\n",
    "import sklearn as sk\n",
    "import pandas as pd\n",
    "pd.options.display.max_colwidth = 1500\n",
    "import torch\n",
    "from torch.utils.data import DataLoader, Dataset\n",
    "import torchvision\n",
    "import torchvision.transforms as transforms\n",
    "from torch.utils.data.sampler import SubsetRandomSampler\n",
    "import matplotlib.pyplot as plt\n",
    "import numpy as np\n",
    "import pandas as pd\n",
    "from sklearn import metrics\n",
    "from sklearn import svm\n",
    "from sklearn import svm, datasets\n",
    "import sklearn.model_selection as model_selection\n",
    "from sklearn.metrics import accuracy_score\n",
    "from sklearn.metrics import f1_score\n",
    "from datetime import datetime\n",
    "from scipy.stats import skew\n",
    "from sklearn.preprocessing import StandardScaler\n",
    "from sklearn.decomposition import PCA\n",
    "from sklearn.svm import SVC\n",
    "import string\n",
    "import datetime\n",
    "import torch\n",
    "import torch.optim as optim\n",
    "from torch.utils.data import DataLoader, Dataset\n",
    "from torch.utils.data.sampler import SubsetRandomSampler\n",
    "import torch.nn as nn\n",
    "import torch.nn.functional as F\n",
    "import csv\n",
    "import json\n",
    "from sklearn.metrics import multilabel_confusion_matrix\n",
    "from sklearn.model_selection import train_test_split\n",
    "import seaborn as sns\n",
    "import pandas as pd\n",
    "import matplotlib.pyplot as plt\n",
    "\n"
   ]
  },
  {
   "cell_type": "markdown",
   "id": "219c39b1",
   "metadata": {},
   "source": [
    "## Data Loading"
   ]
  },
  {
   "cell_type": "code",
   "execution_count": 7,
   "id": "d4a72f06",
   "metadata": {},
   "outputs": [],
   "source": [
    "word_dict=dict()\n",
    "word_dict['<PAD>'] = 10"
   ]
  },
  {
   "cell_type": "code",
   "execution_count": 2,
   "id": "21079287",
   "metadata": {},
   "outputs": [],
   "source": [
    "csv_file_text = '/Users/bidishadasbaksi/Docs_no_icloud/Documents – Bidisha’s MacBook Pro/ Personal_docs Intuit Laptop/USC Journey/Spring 2022/CSCI-535 Multimodal/Project/segmented/textual_feature_set_new.csv'\n"
   ]
  },
  {
   "cell_type": "code",
   "execution_count": 3,
   "id": "b1c3e8eb",
   "metadata": {},
   "outputs": [],
   "source": [
    "df = pd.read_csv(csv_file_text,header=None)\n",
    "df = df[(df[50]== 'D') | (df[50]== 'Ah') | (df[50]== 'Ih') | (df[50]== 'Z') | (df[50]== 'W') | (df[50]== '0')  ]\n",
    "unique_classes = df[50].unique().tolist()\n",
    "unique_classes.remove('0')\n",
    "indexes = [i for i in range(len(unique_classes))]\n",
    "replace_dict = {unique_classes[i]:i for i in indexes}\n",
    "replace_dict['0']=len(unique_classes)\n",
    "df[[50]] = df[[50]].replace(replace_dict)\n",
    "                                                              \n",
    "                                                              "
   ]
  },
  {
   "cell_type": "code",
   "execution_count": 4,
   "id": "4be35a86",
   "metadata": {},
   "outputs": [
    {
     "data": {
      "text/plain": [
       "{'Ah': 0, 'Ih': 1, 'Z': 2, 'D': 3, 'W': 4, '0': 5}"
      ]
     },
     "execution_count": 4,
     "metadata": {},
     "output_type": "execute_result"
    }
   ],
   "source": [
    "replace_dict"
   ]
  },
  {
   "cell_type": "code",
   "execution_count": 5,
   "id": "1d8cb2dd",
   "metadata": {},
   "outputs": [],
   "source": [
    "df_list  = df.values.tolist()\n",
    "df_list_n_x = list()\n",
    "df_l_sub_x=list()\n",
    "df_list_n_y = list()\n",
    "df_l_sub_y=list()\n",
    "for i in df_list:\n",
    "    if(i[0]!=0):\n",
    "        l = i[1:len(i)-1]\n",
    "        l.insert(0,float(i[0]))\n",
    "        df_l_sub_x.append(l)\n",
    "        df_l_sub_y.append(i[len(i)-1])\n",
    "    else:\n",
    "        if(len(df_l_sub_x)>0):\n",
    "            df_list_n_x.append(df_l_sub_x)\n",
    "            df_list_n_y.append(df_l_sub_y)\n",
    "        df_l_sub_x=list()\n",
    "        df_l_sub_y=list()"
   ]
  },
  {
   "cell_type": "markdown",
   "id": "439910f3",
   "metadata": {},
   "source": [
    "## Train Test Split"
   ]
  },
  {
   "cell_type": "code",
   "execution_count": 6,
   "id": "8f707140",
   "metadata": {},
   "outputs": [],
   "source": [
    "X_train, X_test, Y_train, Y_test = train_test_split(df_list_n_x, df_list_n_y, test_size=0.33, random_state=12)\n",
    "X_train, X_val, Y_train, Y_val = train_test_split(X_train, Y_train, test_size=0.25, random_state=123)\n",
    "\n",
    "\n",
    "\n"
   ]
  },
  {
   "cell_type": "markdown",
   "id": "9ddb1d26",
   "metadata": {},
   "source": [
    "## Data Loader"
   ]
  },
  {
   "cell_type": "code",
   "execution_count": 8,
   "id": "99360b8d",
   "metadata": {},
   "outputs": [],
   "source": [
    "class Dataset(Dataset):\n",
    "    def __init__(self, data,label):\n",
    "        'Initialization'\n",
    "        dim_size = len(data[0][0])\n",
    "        data_lengths= [len(frame) for frame in data]\n",
    "        data_lengths_copy = [len(frame) for frame in data]\n",
    "        data_lengths_copy.sort()\n",
    "        pad_token = word_dict['<PAD>']\n",
    "        longest_frame = data_lengths_copy[-2]\n",
    "        b_s = len(data_lengths)\n",
    "        padded_X = np.ones((b_s, longest_frame,dim_size)) * pad_token\n",
    "        padded_Y = np.ones((b_s,longest_frame)) * pad_token\n",
    "\n",
    "        print(padded_X.shape)\n",
    "        for i, d_len in enumerate(data_lengths):\n",
    "            sequence = data[i]\n",
    "            sequence_y = label[i]\n",
    "            if(d_len>longest_frame):\n",
    "                continue\n",
    "            \n",
    "            padded_X[i, (longest_frame-d_len):] = sequence[:longest_frame]\n",
    "            padded_Y[i,(longest_frame-d_len):] = sequence_y[:longest_frame]\n",
    "        self.data = torch.Tensor(padded_X)\n",
    "        self.label = torch.LongTensor(padded_Y)\n",
    "        self.original_data = data\n",
    "        self.original_label = label\n",
    "        \n",
    "    def __len__(self):\n",
    "        return len(self.data)\n",
    "\n",
    "    def __getitem__(self, index):\n",
    "        X= self.data[index]\n",
    "        y = self.label[index]\n",
    "        return (X, y)"
   ]
  },
  {
   "cell_type": "code",
   "execution_count": 9,
   "id": "d596e00c",
   "metadata": {},
   "outputs": [
    {
     "name": "stdout",
     "output_type": "stream",
     "text": [
      "(1796, 125, 50)\n",
      "(599, 95, 50)\n",
      "(1181, 112, 50)\n"
     ]
    }
   ],
   "source": [
    "train_data = Dataset( X_train,Y_train)\n",
    "val_data = Dataset(X_val,Y_val)\n",
    "test_data = Dataset(X_test,Y_test)"
   ]
  },
  {
   "cell_type": "code",
   "execution_count": 10,
   "id": "b9601dac",
   "metadata": {},
   "outputs": [],
   "source": [
    "num_train = len(X_train)\n",
    "indices_train = list(range(num_train))\n",
    "np.random.shuffle(indices_train)\n",
    "\n",
    "\n",
    "\n",
    "num_dev = len(X_val)\n",
    "indices_dev = list(range(num_dev))\n",
    "np.random.shuffle(indices_dev)\n",
    "\n",
    "train_sampler = SubsetRandomSampler(indices_train)\n",
    "dev_sampler = SubsetRandomSampler(indices_dev)\n",
    "\n",
    "batch_size=1\n",
    "\n",
    "train_loader= torch.utils.data.DataLoader(train_data, batch_size=batch_size,\n",
    "    sampler=train_sampler, num_workers=0,)\n",
    "dev_loader = torch.utils.data.DataLoader(val_data, batch_size=batch_size, \n",
    "    sampler=dev_sampler, num_workers=0)\n",
    "\n",
    "\n",
    "dev_loader_without_sampler = torch.utils.data.DataLoader(test_data, batch_size=batch_size, num_workers=0)\n",
    "\n",
    "\n",
    "test_loader = torch.utils.data.DataLoader(test_data, batch_size=batch_size, num_workers=0)\n"
   ]
  },
  {
   "cell_type": "code",
   "execution_count": 11,
   "id": "de6ffd27",
   "metadata": {},
   "outputs": [],
   "source": [
    "test_loader_one = torch.utils.data.DataLoader( test_data, batch_size=1, num_workers=0)\n"
   ]
  },
  {
   "cell_type": "markdown",
   "id": "1ce6fac7",
   "metadata": {},
   "source": [
    "## GRU Training"
   ]
  },
  {
   "cell_type": "code",
   "execution_count": 13,
   "id": "34c926cb",
   "metadata": {},
   "outputs": [],
   "source": [
    "is_cuda = torch.cuda.is_available()\n",
    "\n",
    "if is_cuda:\n",
    "    device = torch.device(\"cuda\")\n",
    "else:\n",
    "    device = torch.device(\"cpu\")"
   ]
  },
  {
   "cell_type": "code",
   "execution_count": 14,
   "id": "471d864a",
   "metadata": {},
   "outputs": [],
   "source": [
    "class GRUNet(nn.Module):\n",
    "    def __init__(self, input_size, output_size, hidden_dim, n_layers):\n",
    "        super(GRUNet, self).__init__()\n",
    "\n",
    "        self.hidden_dim = hidden_dim\n",
    "        self.n_layers = n_layers\n",
    "        self.rnn = nn.GRU(input_size, hidden_dim, n_layers, batch_first=True)\n",
    "        self.fc = nn.Linear(hidden_dim, output_size)\n",
    "        self.relu = nn.ReLU()\n",
    "    def forward(self, x):\n",
    "        batch_size = x.size(0)\n",
    "        hidden = self.init_hidden(batch_size)\n",
    "        out, hidden = self.rnn(x, hidden)\n",
    "        tag_space = self.fc(out)\n",
    "        tag_scores = F.log_softmax(tag_space, dim=2)\n",
    "        return tag_scores.view(batch_size*len(x[0]),-1)\n",
    "    def init_hidden(self, batch_size):\n",
    "        hidden = torch.zeros(self.n_layers, batch_size, self.hidden_dim)\n",
    "        return hidden"
   ]
  },
  {
   "cell_type": "code",
   "execution_count": 19,
   "id": "20ffcf3a",
   "metadata": {},
   "outputs": [
    {
     "data": {
      "text/plain": [
       "<All keys matched successfully>"
      ]
     },
     "execution_count": 19,
     "metadata": {},
     "output_type": "execute_result"
    }
   ],
   "source": [
    "new_model = GRUNet(50,6,20,1)\n",
    "new_model.load_state_dict(torch.load('grunet.pt'))"
   ]
  },
  {
   "cell_type": "code",
   "execution_count": 16,
   "id": "2e603e1f",
   "metadata": {},
   "outputs": [],
   "source": [
    "loss_function_glove = nn.CrossEntropyLoss(ignore_index=word_dict['<PAD>'])\n",
    "optimizer_glove = optim.SGD(new_model.parameters(), lr= 0.01 )\n",
    "scheduler_glove = optim.lr_scheduler.ReduceLROnPlateau(optimizer_glove,  mode='min',patience=3,factor=0.9)\n"
   ]
  },
  {
   "cell_type": "code",
   "execution_count": 17,
   "id": "6d80900d",
   "metadata": {},
   "outputs": [],
   "source": [
    "# best_valid_loss = float(100)"
   ]
  },
  {
   "cell_type": "code",
   "execution_count": 18,
   "id": "864ec133",
   "metadata": {},
   "outputs": [],
   "source": [
    "def train_rnn(new_model,best_valid_loss):\n",
    "    for epoch in range(100):  \n",
    "        train_loss = 0.0\n",
    "        valid_loss = 0.0\n",
    "        new_model.train()\n",
    "        for dataset, target in train_loader:\n",
    "            new_model.zero_grad()\n",
    "            tag_scores = new_model(dataset)\n",
    "            target = target.view(target.shape[0]*len(dataset[0]))\n",
    "            loss = loss_function_glove(tag_scores,target)\n",
    "            loss.backward()\n",
    "            optimizer_glove.step()\n",
    "            train_loss += loss.item()*dataset.size(0)\n",
    "        new_model.eval() \n",
    "        with torch.no_grad():\n",
    "            for dataset, target in dev_loader:\n",
    "                tag_scores = new_model(dataset)\n",
    "                target = target.view(target.shape[0]*len(dataset[0]))\n",
    "                loss = loss_function_glove(tag_scores,target)\n",
    "                valid_loss += loss.item()*dataset.size(0)\n",
    "        train_loss = train_loss/len(train_loader.dataset)\n",
    "        valid_loss = valid_loss/len(dev_loader.dataset)\n",
    "        print('Time: {} \\tEpoch: {} \\tTraining Loss: {:.6f} \\tValidation Loss: {:.6f}'.format(\n",
    "                    datetime.datetime.now(),\n",
    "                    epoch+1, \n",
    "                    train_loss,\n",
    "                    valid_loss\n",
    "                    ))\n",
    "        if(valid_loss < best_valid_loss):\n",
    "            best_valid_loss = valid_loss\n",
    "            torch.save(new_model.state_dict(), 'grunet.pt')\n",
    "        scheduler_glove.step(valid_loss)\n",
    "    return best_valid_loss"
   ]
  },
  {
   "cell_type": "code",
   "execution_count": 547,
   "id": "ca190fb7",
   "metadata": {
    "scrolled": true
   },
   "outputs": [
    {
     "name": "stdout",
     "output_type": "stream",
     "text": [
      "Time: 2022-04-25 22:50:51.792861 \tEpoch: 1 \tTraining Loss: 0.910483 \tValidation Loss: 0.955981\n",
      "Time: 2022-04-25 22:51:25.206898 \tEpoch: 2 \tTraining Loss: 0.910531 \tValidation Loss: 0.955978\n",
      "Time: 2022-04-25 22:51:59.669830 \tEpoch: 3 \tTraining Loss: 0.910719 \tValidation Loss: 0.954899\n",
      "Time: 2022-04-25 22:52:33.681026 \tEpoch: 4 \tTraining Loss: 0.910595 \tValidation Loss: 0.954657\n",
      "Time: 2022-04-25 22:53:06.368374 \tEpoch: 5 \tTraining Loss: 0.910174 \tValidation Loss: 0.954576\n",
      "Time: 2022-04-25 22:53:38.808165 \tEpoch: 6 \tTraining Loss: 0.910339 \tValidation Loss: 0.956183\n",
      "Time: 2022-04-25 22:54:11.190672 \tEpoch: 7 \tTraining Loss: 0.910339 \tValidation Loss: 0.954353\n",
      "Time: 2022-04-25 22:54:47.688741 \tEpoch: 8 \tTraining Loss: 0.909898 \tValidation Loss: 0.957591\n",
      "Time: 2022-04-25 22:55:24.856587 \tEpoch: 9 \tTraining Loss: 0.910248 \tValidation Loss: 0.955783\n",
      "Time: 2022-04-25 22:56:00.293555 \tEpoch: 10 \tTraining Loss: 0.910233 \tValidation Loss: 0.956063\n",
      "Time: 2022-04-25 22:56:34.723297 \tEpoch: 11 \tTraining Loss: 0.910077 \tValidation Loss: 0.956605\n",
      "Time: 2022-04-25 22:57:13.443431 \tEpoch: 12 \tTraining Loss: 0.910110 \tValidation Loss: 0.954588\n",
      "Time: 2022-04-25 22:57:47.343250 \tEpoch: 13 \tTraining Loss: 0.910037 \tValidation Loss: 0.954651\n",
      "Time: 2022-04-25 22:58:22.952974 \tEpoch: 14 \tTraining Loss: 0.909852 \tValidation Loss: 0.954345\n",
      "Time: 2022-04-25 22:59:01.152744 \tEpoch: 15 \tTraining Loss: 0.909727 \tValidation Loss: 0.954063\n",
      "Time: 2022-04-25 22:59:36.207686 \tEpoch: 16 \tTraining Loss: 0.909574 \tValidation Loss: 0.954557\n",
      "Time: 2022-04-25 23:00:09.465353 \tEpoch: 17 \tTraining Loss: 0.909720 \tValidation Loss: 0.954546\n",
      "Time: 2022-04-25 23:00:42.129260 \tEpoch: 18 \tTraining Loss: 0.909820 \tValidation Loss: 0.954454\n",
      "Time: 2022-04-25 23:01:16.432958 \tEpoch: 19 \tTraining Loss: 0.909773 \tValidation Loss: 0.954895\n",
      "Time: 2022-04-25 23:01:53.182144 \tEpoch: 20 \tTraining Loss: 0.909777 \tValidation Loss: 0.954680\n",
      "Time: 2022-04-25 23:02:29.099185 \tEpoch: 21 \tTraining Loss: 0.909406 \tValidation Loss: 0.954295\n",
      "Time: 2022-04-25 23:03:05.200474 \tEpoch: 22 \tTraining Loss: 0.909287 \tValidation Loss: 0.955887\n",
      "Time: 2022-04-25 23:03:43.952560 \tEpoch: 23 \tTraining Loss: 0.909486 \tValidation Loss: 0.955231\n",
      "Time: 2022-04-25 23:04:12.998926 \tEpoch: 24 \tTraining Loss: 0.909154 \tValidation Loss: 0.954192\n",
      "Time: 2022-04-25 23:04:41.816668 \tEpoch: 25 \tTraining Loss: 0.909176 \tValidation Loss: 0.955271\n",
      "Time: 2022-04-25 23:05:10.953133 \tEpoch: 26 \tTraining Loss: 0.909064 \tValidation Loss: 0.953787\n",
      "Time: 2022-04-25 23:05:39.792763 \tEpoch: 27 \tTraining Loss: 0.909344 \tValidation Loss: 0.953783\n",
      "Time: 2022-04-25 23:06:09.080085 \tEpoch: 28 \tTraining Loss: 0.909124 \tValidation Loss: 0.956123\n",
      "Time: 2022-04-25 23:06:38.397080 \tEpoch: 29 \tTraining Loss: 0.909195 \tValidation Loss: 0.954603\n",
      "Time: 2022-04-25 23:07:07.746598 \tEpoch: 30 \tTraining Loss: 0.909236 \tValidation Loss: 0.954690\n",
      "Time: 2022-04-25 23:07:36.841537 \tEpoch: 31 \tTraining Loss: 0.908962 \tValidation Loss: 0.954208\n",
      "Time: 2022-04-25 23:08:05.657916 \tEpoch: 32 \tTraining Loss: 0.909119 \tValidation Loss: 0.953942\n",
      "Time: 2022-04-25 23:08:35.695137 \tEpoch: 33 \tTraining Loss: 0.908983 \tValidation Loss: 0.955221\n",
      "Time: 2022-04-25 23:09:05.074249 \tEpoch: 34 \tTraining Loss: 0.908998 \tValidation Loss: 0.953650\n",
      "Time: 2022-04-25 23:09:34.031865 \tEpoch: 35 \tTraining Loss: 0.908948 \tValidation Loss: 0.954994\n",
      "Time: 2022-04-25 23:10:02.793273 \tEpoch: 36 \tTraining Loss: 0.908858 \tValidation Loss: 0.953986\n",
      "Time: 2022-04-25 23:10:31.847621 \tEpoch: 37 \tTraining Loss: 0.909108 \tValidation Loss: 0.953848\n",
      "Time: 2022-04-25 23:11:01.439343 \tEpoch: 38 \tTraining Loss: 0.908656 \tValidation Loss: 0.953828\n",
      "Time: 2022-04-25 23:11:30.398293 \tEpoch: 39 \tTraining Loss: 0.908636 \tValidation Loss: 0.954467\n",
      "Time: 2022-04-25 23:11:59.761529 \tEpoch: 40 \tTraining Loss: 0.908832 \tValidation Loss: 0.953391\n",
      "Time: 2022-04-25 23:12:29.713473 \tEpoch: 41 \tTraining Loss: 0.908584 \tValidation Loss: 0.954718\n",
      "Time: 2022-04-25 23:12:58.817879 \tEpoch: 42 \tTraining Loss: 0.908640 \tValidation Loss: 0.953367\n",
      "Time: 2022-04-25 23:13:28.704065 \tEpoch: 43 \tTraining Loss: 0.908719 \tValidation Loss: 0.953451\n",
      "Time: 2022-04-25 23:13:57.329453 \tEpoch: 44 \tTraining Loss: 0.908415 \tValidation Loss: 0.954020\n",
      "Time: 2022-04-25 23:14:26.013657 \tEpoch: 45 \tTraining Loss: 0.908347 \tValidation Loss: 0.953742\n",
      "Time: 2022-04-25 23:14:55.709757 \tEpoch: 46 \tTraining Loss: 0.908461 \tValidation Loss: 0.954657\n",
      "Time: 2022-04-25 23:15:25.822650 \tEpoch: 47 \tTraining Loss: 0.908415 \tValidation Loss: 0.953911\n",
      "Time: 2022-04-25 23:15:54.448134 \tEpoch: 48 \tTraining Loss: 0.908500 \tValidation Loss: 0.953476\n",
      "Time: 2022-04-25 23:16:23.059087 \tEpoch: 49 \tTraining Loss: 0.908324 \tValidation Loss: 0.954117\n",
      "Time: 2022-04-25 23:16:51.645014 \tEpoch: 50 \tTraining Loss: 0.908185 \tValidation Loss: 0.954117\n",
      "Time: 2022-04-25 23:17:20.884659 \tEpoch: 51 \tTraining Loss: 0.908351 \tValidation Loss: 0.953111\n",
      "Time: 2022-04-25 23:17:49.426435 \tEpoch: 52 \tTraining Loss: 0.908232 \tValidation Loss: 0.953051\n",
      "Time: 2022-04-25 23:18:17.944704 \tEpoch: 53 \tTraining Loss: 0.908064 \tValidation Loss: 0.954238\n",
      "Time: 2022-04-25 23:18:46.989659 \tEpoch: 54 \tTraining Loss: 0.908339 \tValidation Loss: 0.953498\n",
      "Time: 2022-04-25 23:19:15.876025 \tEpoch: 55 \tTraining Loss: 0.908178 \tValidation Loss: 0.954250\n",
      "Time: 2022-04-25 23:19:44.750320 \tEpoch: 56 \tTraining Loss: 0.908128 \tValidation Loss: 0.953463\n",
      "Time: 2022-04-25 23:20:13.294983 \tEpoch: 57 \tTraining Loss: 0.907993 \tValidation Loss: 0.953673\n",
      "Time: 2022-04-25 23:20:41.706345 \tEpoch: 58 \tTraining Loss: 0.907995 \tValidation Loss: 0.953115\n",
      "Time: 2022-04-25 23:21:10.717168 \tEpoch: 59 \tTraining Loss: 0.907967 \tValidation Loss: 0.953225\n",
      "Time: 2022-04-25 23:21:40.321412 \tEpoch: 60 \tTraining Loss: 0.907808 \tValidation Loss: 0.954260\n",
      "Time: 2022-04-25 23:22:09.904978 \tEpoch: 61 \tTraining Loss: 0.907962 \tValidation Loss: 0.953320\n",
      "Time: 2022-04-25 23:22:38.588298 \tEpoch: 62 \tTraining Loss: 0.908026 \tValidation Loss: 0.953354\n",
      "Time: 2022-04-25 23:23:07.706743 \tEpoch: 63 \tTraining Loss: 0.907989 \tValidation Loss: 0.953083\n",
      "Time: 2022-04-25 23:23:36.499635 \tEpoch: 64 \tTraining Loss: 0.907840 \tValidation Loss: 0.953889\n",
      "Time: 2022-04-25 23:24:04.864013 \tEpoch: 65 \tTraining Loss: 0.907902 \tValidation Loss: 0.953362\n",
      "Time: 2022-04-25 23:24:33.465560 \tEpoch: 66 \tTraining Loss: 0.907773 \tValidation Loss: 0.953965\n",
      "Time: 2022-04-25 23:25:04.872794 \tEpoch: 67 \tTraining Loss: 0.907847 \tValidation Loss: 0.953478\n",
      "Time: 2022-04-25 23:25:33.295678 \tEpoch: 68 \tTraining Loss: 0.907682 \tValidation Loss: 0.953131\n",
      "Time: 2022-04-25 23:26:01.673999 \tEpoch: 69 \tTraining Loss: 0.907700 \tValidation Loss: 0.953067\n",
      "Time: 2022-04-25 23:26:29.892925 \tEpoch: 70 \tTraining Loss: 0.907685 \tValidation Loss: 0.953301\n",
      "Time: 2022-04-25 23:26:58.915124 \tEpoch: 71 \tTraining Loss: 0.907752 \tValidation Loss: 0.952931\n",
      "Time: 2022-04-25 23:27:27.220040 \tEpoch: 72 \tTraining Loss: 0.907722 \tValidation Loss: 0.953531\n",
      "Time: 2022-04-25 23:27:55.687190 \tEpoch: 73 \tTraining Loss: 0.907744 \tValidation Loss: 0.953327\n",
      "Time: 2022-04-25 23:28:24.705399 \tEpoch: 74 \tTraining Loss: 0.907575 \tValidation Loss: 0.954051\n",
      "Time: 2022-04-25 23:28:52.902233 \tEpoch: 75 \tTraining Loss: 0.907628 \tValidation Loss: 0.953211\n",
      "Time: 2022-04-25 23:29:21.179500 \tEpoch: 76 \tTraining Loss: 0.907571 \tValidation Loss: 0.953055\n",
      "Time: 2022-04-25 23:29:49.765578 \tEpoch: 77 \tTraining Loss: 0.907566 \tValidation Loss: 0.953021\n",
      "Time: 2022-04-25 23:30:17.977998 \tEpoch: 78 \tTraining Loss: 0.907617 \tValidation Loss: 0.952941\n",
      "Time: 2022-04-25 23:30:45.467226 \tEpoch: 79 \tTraining Loss: 0.907499 \tValidation Loss: 0.953017\n",
      "Time: 2022-04-25 23:31:12.588475 \tEpoch: 80 \tTraining Loss: 0.907504 \tValidation Loss: 0.953530\n",
      "Time: 2022-04-25 23:31:41.073003 \tEpoch: 81 \tTraining Loss: 0.907576 \tValidation Loss: 0.953224\n",
      "Time: 2022-04-25 23:32:08.662737 \tEpoch: 82 \tTraining Loss: 0.907496 \tValidation Loss: 0.952949\n",
      "Time: 2022-04-25 23:32:37.460094 \tEpoch: 83 \tTraining Loss: 0.907528 \tValidation Loss: 0.952972\n",
      "Time: 2022-04-25 23:33:04.658477 \tEpoch: 84 \tTraining Loss: 0.907372 \tValidation Loss: 0.953189\n",
      "Time: 2022-04-25 23:33:32.258101 \tEpoch: 85 \tTraining Loss: 0.907446 \tValidation Loss: 0.953191\n",
      "Time: 2022-04-25 23:33:59.511890 \tEpoch: 86 \tTraining Loss: 0.907420 \tValidation Loss: 0.953129\n"
     ]
    },
    {
     "name": "stdout",
     "output_type": "stream",
     "text": [
      "Time: 2022-04-25 23:34:26.696432 \tEpoch: 87 \tTraining Loss: 0.907347 \tValidation Loss: 0.952765\n",
      "Time: 2022-04-25 23:34:53.848284 \tEpoch: 88 \tTraining Loss: 0.907387 \tValidation Loss: 0.952952\n",
      "Time: 2022-04-25 23:35:20.762100 \tEpoch: 89 \tTraining Loss: 0.907383 \tValidation Loss: 0.953355\n",
      "Time: 2022-04-25 23:35:47.906933 \tEpoch: 90 \tTraining Loss: 0.907372 \tValidation Loss: 0.953475\n",
      "Time: 2022-04-25 23:36:14.845813 \tEpoch: 91 \tTraining Loss: 0.907417 \tValidation Loss: 0.953190\n",
      "Time: 2022-04-25 23:36:42.152063 \tEpoch: 92 \tTraining Loss: 0.907303 \tValidation Loss: 0.952828\n",
      "Time: 2022-04-25 23:37:09.043938 \tEpoch: 93 \tTraining Loss: 0.907291 \tValidation Loss: 0.952649\n",
      "Time: 2022-04-25 23:37:37.531171 \tEpoch: 94 \tTraining Loss: 0.907263 \tValidation Loss: 0.953011\n",
      "Time: 2022-04-25 23:38:04.708501 \tEpoch: 95 \tTraining Loss: 0.907269 \tValidation Loss: 0.952573\n",
      "Time: 2022-04-25 23:38:31.830804 \tEpoch: 96 \tTraining Loss: 0.907299 \tValidation Loss: 0.953001\n",
      "Time: 2022-04-25 23:38:58.776957 \tEpoch: 97 \tTraining Loss: 0.907232 \tValidation Loss: 0.952706\n",
      "Time: 2022-04-25 23:39:25.844641 \tEpoch: 98 \tTraining Loss: 0.907236 \tValidation Loss: 0.953280\n",
      "Time: 2022-04-25 23:39:52.974851 \tEpoch: 99 \tTraining Loss: 0.907171 \tValidation Loss: 0.953054\n",
      "Time: 2022-04-25 23:40:19.907666 \tEpoch: 100 \tTraining Loss: 0.907237 \tValidation Loss: 0.952688\n"
     ]
    }
   ],
   "source": [
    "best_valid_loss = train_rnn(new_model,best_valid_loss)"
   ]
  },
  {
   "cell_type": "markdown",
   "id": "a3b3ffd6",
   "metadata": {},
   "source": [
    "## Test Set Prediction and Performance Metrices"
   ]
  },
  {
   "cell_type": "code",
   "execution_count": 20,
   "id": "64c6ff23",
   "metadata": {},
   "outputs": [],
   "source": [
    "def predict(model, dataloader):\n",
    "    prediction_list = []\n",
    "    test_data_list = []\n",
    "    for data, target in dataloader:\n",
    "        outputs = model(data)\n",
    "        for i,dat in enumerate(outputs.data):\n",
    "            predicted = torch.argmax(dat)\n",
    "            if(target[0][i]!=torch.tensor(word_dict['<PAD>']) ):\n",
    "                prediction_list.append(predicted)\n",
    "                test_data_list.append(target[0][i])\n",
    "    return (test_data_list,prediction_list)"
   ]
  },
  {
   "cell_type": "code",
   "execution_count": 21,
   "id": "cc773b93",
   "metadata": {},
   "outputs": [],
   "source": [
    "predictions = predict(new_model,test_loader_one)"
   ]
  },
  {
   "cell_type": "code",
   "execution_count": 22,
   "id": "d27684d5",
   "metadata": {},
   "outputs": [],
   "source": [
    "pred = np.array(predictions[1])\n",
    "targ = np.array(predictions[0])\n"
   ]
  },
  {
   "cell_type": "markdown",
   "id": "5b48e2f8",
   "metadata": {},
   "source": [
    "### Accuracy"
   ]
  },
  {
   "cell_type": "code",
   "execution_count": 23,
   "id": "9f9357ea",
   "metadata": {
    "scrolled": true
   },
   "outputs": [
    {
     "data": {
      "text/plain": [
       "0.603079620383428"
      ]
     },
     "execution_count": 23,
     "metadata": {},
     "output_type": "execute_result"
    }
   ],
   "source": [
    "metrics.accuracy_score(targ, pred)\n"
   ]
  },
  {
   "cell_type": "markdown",
   "id": "19c03215",
   "metadata": {},
   "source": [
    "### F1 score"
   ]
  },
  {
   "cell_type": "code",
   "execution_count": 24,
   "id": "f6a590b6",
   "metadata": {},
   "outputs": [
    {
     "data": {
      "text/plain": [
       "0.5863838629875401"
      ]
     },
     "execution_count": 24,
     "metadata": {},
     "output_type": "execute_result"
    }
   ],
   "source": [
    "metrics.f1_score(targ, pred,average='weighted')\n"
   ]
  },
  {
   "cell_type": "markdown",
   "id": "e2ed16e3",
   "metadata": {},
   "source": [
    "### Confusion Matrix"
   ]
  },
  {
   "cell_type": "code",
   "execution_count": 28,
   "id": "b8e4e11b",
   "metadata": {},
   "outputs": [
    {
     "data": {
      "text/plain": [
       "array([[3540,  443,   75, 1792,  317],\n",
       "       [ 533, 2709,   48, 2430,   60],\n",
       "       [ 417,  207,  794, 1410,   21],\n",
       "       [ 656,  322,   48, 7595,   42],\n",
       "       [ 541,  276,   34,  742, 1185]])"
      ]
     },
     "execution_count": 28,
     "metadata": {},
     "output_type": "execute_result"
    }
   ],
   "source": [
    "metrics.confusion_matrix(targ, pred)"
   ]
  },
  {
   "cell_type": "code",
   "execution_count": 30,
   "id": "3cbae3a5",
   "metadata": {},
   "outputs": [
    {
     "data": {
      "image/png": "[encoded data removed]",
      "text/plain": [
       "<Figure size 432x288 with 2 Axes>"
      ]
     },
     "metadata": {
      "needs_background": "light"
     },
     "output_type": "display_data"
    }
   ],
   "source": [
    "conf = metrics.confusion_matrix(targ, pred)\n",
    "df = pd.DataFrame(conf, range(5), range(5))\n",
    "sns.heatmap(df, annot=True)\n",
    "plt.show()"
   ]
  },
  {
   "cell_type": "code",
   "execution_count": 31,
   "id": "ab3e2901",
   "metadata": {},
   "outputs": [],
   "source": [
    "def calculate_acc_per_class(confusion_matrix):\n",
    "    classes_ = []\n",
    "    f1_score = []\n",
    "    for class_ in range(5):\n",
    "        classes_k = {}\n",
    "        fp = 0\n",
    "        fn = 0\n",
    "        tn = 0\n",
    "        for i in range(len(confusion_matrix)):\n",
    "            for j in range(len(confusion_matrix[i])):\n",
    "                if (i == j) and (i==class_):\n",
    "                    classes_k['tp'] = confusion_matrix[i][j]\n",
    "                elif (i == class_):\n",
    "                    fp += confusion_matrix[i][j]\n",
    "                elif (j == class_):\n",
    "                    fn += confusion_matrix[i][j]\n",
    "                else:\n",
    "                    tn += confusion_matrix[i][j]\n",
    "        classes_k['tn'] = tn\n",
    "        classes_k['fp'] = fp\n",
    "        classes_k['fn'] = fn\n",
    "        classes_k['precision'] = classes_k['tp']/(classes_k['tp'] + fp)\n",
    "        classes_k['recall'] = classes_k['tp']/(classes_k['tp'] + fn)\n",
    "        classes_k['f1_score'] =(2* classes_k['precision']  * classes_k['recall']) /(classes_k['precision']  + classes_k['recall'] )\n",
    "        f1_score.append(classes_k['f1_score'])\n",
    "        classes_.append(classes_k) \n",
    "    f1_score_macro = sum(f1_score)/len(f1_score)\n",
    "    return classes_, f1_score_macro"
   ]
  },
  {
   "cell_type": "code",
   "execution_count": 32,
   "id": "81c41072",
   "metadata": {},
   "outputs": [],
   "source": [
    "res = calculate_acc_per_class(conf)"
   ]
  },
  {
   "cell_type": "code",
   "execution_count": 33,
   "id": "8fdc5dec",
   "metadata": {},
   "outputs": [
    {
     "data": {
      "text/plain": [
       "([{'tp': 3540,\n",
       "   'tn': 17923,\n",
       "   'fp': 2627,\n",
       "   'fn': 2147,\n",
       "   'precision': 0.5740230257823902,\n",
       "   'recall': 0.6224723052576051,\n",
       "   'f1_score': 0.5972667454023959},\n",
       "  {'tp': 2709,\n",
       "   'tn': 19209,\n",
       "   'fp': 3071,\n",
       "   'fn': 1248,\n",
       "   'precision': 0.46868512110726646,\n",
       "   'recall': 0.6846095526914329,\n",
       "   'f1_score': 0.5564342199856219},\n",
       "  {'tp': 794,\n",
       "   'tn': 23183,\n",
       "   'fp': 2055,\n",
       "   'fn': 205,\n",
       "   'precision': 0.2786942786942787,\n",
       "   'recall': 0.7947947947947948,\n",
       "   'f1_score': 0.41268191268191273},\n",
       "  {'tp': 7595,\n",
       "   'tn': 11200,\n",
       "   'fp': 1068,\n",
       "   'fn': 6374,\n",
       "   'precision': 0.8767170726076416,\n",
       "   'recall': 0.5437039158135872,\n",
       "   'f1_score': 0.6711735595616826},\n",
       "  {'tp': 1185,\n",
       "   'tn': 23019,\n",
       "   'fp': 1593,\n",
       "   'fn': 440,\n",
       "   'precision': 0.4265658747300216,\n",
       "   'recall': 0.7292307692307692,\n",
       "   'f1_score': 0.5382693617987735}],\n",
       " 0.5551651598860774)"
      ]
     },
     "execution_count": 33,
     "metadata": {},
     "output_type": "execute_result"
    }
   ],
   "source": [
    "res"
   ]
  }
 ],
 "metadata": {
  "kernelspec": {
   "display_name": "Python 3",
   "language": "python",
   "name": "python3"
  },
  "language_info": {
   "codemirror_mode": {
    "name": "ipython",
    "version": 3
   },
   "file_extension": ".py",
   "mimetype": "text/x-python",
   "name": "python",
   "nbconvert_exporter": "python",
   "pygments_lexer": "ipython3",
   "version": "3.8.8"
  }
 },
 "nbformat": 4,
 "nbformat_minor": 5
}

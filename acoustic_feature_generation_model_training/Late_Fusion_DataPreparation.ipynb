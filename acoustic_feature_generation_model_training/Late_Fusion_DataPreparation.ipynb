{
 "cells": [
  {
   "cell_type": "code",
   "execution_count": 3,
   "id": "900cbf83",
   "metadata": {},
   "outputs": [
    {
     "name": "stdout",
     "output_type": "stream",
     "text": [
      "Collecting gensim\n",
      "  Downloading gensim-4.1.2-cp39-cp39-win_amd64.whl (24.0 MB)\n",
      "Collecting Cython==0.29.23\n",
      "  Downloading Cython-0.29.23-cp39-cp39-win_amd64.whl (1.7 MB)\n",
      "Requirement already satisfied: scipy>=0.18.1 in c:\\users\\ratho\\anaconda3\\lib\\site-packages (from gensim) (1.7.1)\n",
      "Collecting smart-open>=1.8.1\n",
      "  Downloading smart_open-6.0.0-py3-none-any.whl (58 kB)\n",
      "Requirement already satisfied: numpy>=1.17.0 in c:\\users\\ratho\\anaconda3\\lib\\site-packages (from gensim) (1.20.3)\n",
      "Installing collected packages: smart-open, Cython, gensim\n",
      "  Attempting uninstall: Cython\n",
      "    Found existing installation: Cython 0.29.24\n",
      "    Uninstalling Cython-0.29.24:\n",
      "      Successfully uninstalled Cython-0.29.24\n",
      "Successfully installed Cython-0.29.23 gensim-4.1.2 smart-open-6.0.0\n"
     ]
    }
   ],
   "source": [
    "!pip install gensim"
   ]
  },
  {
   "cell_type": "code",
   "execution_count": 4,
   "id": "63ed08af",
   "metadata": {},
   "outputs": [],
   "source": [
    "#G:\\Shared drives\\CS535 Project\\data\\complete_files\n",
    "import pandas\n",
    "import xml.etree.ElementTree as ET\n",
    "import os\n",
    "import csv\n",
    "import re\n",
    "%matplotlib inline\n",
    "import numpy as np\n",
    "import pandas as pd\n",
    "import librosa as lb\n",
    "import librosa.display\n",
    "import matplotlib.pyplot as plt\n",
    "from gensim.models import Word2Vec"
   ]
  },
  {
   "cell_type": "code",
   "execution_count": 5,
   "id": "41b6e89c",
   "metadata": {},
   "outputs": [],
   "source": [
    "def read_csv(file_name):\n",
    "    file = open(file_name)\n",
    "    df = pandas.read_csv(file_name)\n",
    "    return df\n",
    "\n",
    "    "
   ]
  },
  {
   "cell_type": "code",
   "execution_count": 6,
   "id": "f7b32adc",
   "metadata": {},
   "outputs": [],
   "source": [
    "def read_bml(file_name):\n",
    "    tree = ET.parse(file_name)\n",
    "    root = tree.getroot()\n",
    "    return root\n",
    "    "
   ]
  },
  {
   "cell_type": "code",
   "execution_count": 7,
   "id": "f57d6638",
   "metadata": {},
   "outputs": [],
   "source": [
    "def read_viseme(root):\n",
    "    viseme_l = list()\n",
    "    for child in root:\n",
    "        viseme = list()\n",
    "#         print(child.tag)\n",
    "        if(child.tag == \"lips\"):\n",
    "#             print(True)\n",
    "            viseme.append(child.attrib['viseme'])\n",
    "            viseme.append(child.attrib['start'])\n",
    "            viseme.append(child.attrib['end'])\n",
    "            viseme_l.append(viseme)\n",
    "    return viseme_l\n",
    "            \n",
    "def read_transcript(root,end_time):\n",
    "    for child in root:\n",
    "        if(child.tag=='speech'):\n",
    "            for child2 in child:\n",
    "                if(child2.tag == 'text'):\n",
    "                    texttag = child2\n",
    "                    break\n",
    "    transcript_l = list()\n",
    "    next_t =0\n",
    "    for i,sync in enumerate(texttag):\n",
    "        transcript = list()\n",
    "        for t in sync:\n",
    "            print(t)\n",
    "        if sync.text is None : \n",
    "            transcript.append('000')\n",
    "        else:    \n",
    "            transcript.append(sync.text)\n",
    "#         transcript.append(prev)\n",
    "        transcript.append(sync.attrib['time'])\n",
    "        if(i<len(texttag)-1):\n",
    "            transcript.append(texttag[i+1].attrib['time'])\n",
    "        else:\n",
    "            transcript.append(end_time)\n",
    "        \n",
    "        prev = sync.attrib['time']\n",
    "        transcript_l.append(transcript)\n",
    "    return transcript_l\n",
    "def get_mfcc(filename,viseme_extract):\n",
    "    mfcc_l = list()\n",
    "    for rec in viseme_extract:\n",
    "        try:\n",
    "            mfcc = create_mfcc(filename,float(rec[1]),float(rec[2])).tolist()\n",
    "            mfcc.append(rec[0])\n",
    "            mfcc_l.append(mfcc)\n",
    "        except:\n",
    "            pass\n",
    "    return mfcc_l\n",
    "def create_mfcc(audio_path, start_ms, end_ms):\n",
    "    start = start_ms/100\n",
    "    end = end_ms/100\n",
    "    data, sample_rate = lb.load(audio_path, offset = start, duration = end - start)\n",
    "#     lb.display.waveplot(data)\n",
    "#     print(type(data), type(sample_rate))\n",
    "    mfcc = librosa.feature.mfcc(y=data, sr=sample_rate)\n",
    "#     librosa.display.specshow(mfcc, sr=sample_rate, x_axis='time')\n",
    "    mfccScaled = np.mean(mfcc.T, axis=0)\n",
    "    return mfccScaled"
   ]
  },
  {
   "cell_type": "code",
   "execution_count": null,
   "id": "c873b27a",
   "metadata": {},
   "outputs": [],
   "source": [
    "read_viseme_mod = '/Users/bidishadasbaksi/Docs_no_icloud/Documents – Bidisha’s MacBook Pro/ Personal_docs Intuit Laptop/USC Journey/Spring 2022/CSCI-535 Multimodal/Project/segmented/viseme_modified'\n",
    "audio_dir = '/Users/bidishadasbaksi/Docs_no_icloud/Documents – Bidisha’s MacBook Pro/ Personal_docs Intuit Laptop/USC Journey/Spring 2022/CSCI-535 Multimodal/Project/segmented/raw_audio'\n",
    "csv_file = '/Users/bidishadasbaksi/Docs_no_icloud/Documents – Bidisha’s MacBook Pro/ Personal_docs Intuit Laptop/USC Journey/Spring 2022/CSCI-535 Multimodal/Project/segmented/mfcc_feature_set.csv'\n",
    "\n",
    "\n"
   ]
  }
 ],
 "metadata": {
  "kernelspec": {
   "display_name": "Python 3 (ipykernel)",
   "language": "python",
   "name": "python3"
  },
  "language_info": {
   "codemirror_mode": {
    "name": "ipython",
    "version": 3
   },
   "file_extension": ".py",
   "mimetype": "text/x-python",
   "name": "python",
   "nbconvert_exporter": "python",
   "pygments_lexer": "ipython3",
   "version": "3.9.7"
  }
 },
 "nbformat": 4,
 "nbformat_minor": 5
}

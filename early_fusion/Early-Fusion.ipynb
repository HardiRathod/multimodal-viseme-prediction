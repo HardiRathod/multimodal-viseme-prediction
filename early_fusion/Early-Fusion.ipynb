{
 "cells": [
  {
   "cell_type": "code",
   "execution_count": 74,
   "id": "84047166",
   "metadata": {},
   "outputs": [],
   "source": [
    "import pickle\n",
    "from collections import defaultdict\n",
    "# warnings.filterwarnings('ignore')\n",
    "import sklearn as sk\n",
    "import pandas as pd\n",
    "pd.options.display.max_colwidth = 1500\n",
    "import torch\n",
    "from torch.utils.data import DataLoader, Dataset\n",
    "import torchvision\n",
    "import torchvision.transforms as transforms\n",
    "from torch.utils.data.sampler import SubsetRandomSampler\n",
    "import matplotlib.pyplot as plt\n",
    "import numpy as np\n",
    "import pandas as pd\n",
    "from sklearn import metrics\n",
    "from sklearn import svm\n",
    "from sklearn import svm, datasets\n",
    "import sklearn.model_selection as model_selection\n",
    "from sklearn.metrics import accuracy_score\n",
    "from sklearn.metrics import f1_score\n",
    "from datetime import datetime\n",
    "from scipy.stats import skew\n",
    "from sklearn.preprocessing import StandardScaler\n",
    "from sklearn.decomposition import PCA\n",
    "from sklearn.svm import SVC\n",
    "import string\n",
    "import datetime\n",
    "import torch\n",
    "import torch.optim as optim\n",
    "from torch.utils.data import DataLoader, Dataset\n",
    "from torch.utils.data.sampler import SubsetRandomSampler\n",
    "import torch.nn as nn\n",
    "import torch.nn.functional as F\n",
    "import csv\n",
    "import json\n",
    "from sklearn.metrics import multilabel_confusion_matrix\n",
    "from sklearn.model_selection import train_test_split\n",
    "from sklearn.metrics import multilabel_confusion_matrix\n",
    "from sklearn.model_selection import train_test_split\n",
    "import seaborn as sns\n",
    "import pandas as pd\n",
    "import matplotlib.pyplot as plt\n",
    "import random\n",
    "\n"
   ]
  },
  {
   "cell_type": "code",
   "execution_count": 45,
   "id": "6c26666e",
   "metadata": {},
   "outputs": [],
   "source": [
    "csv_file_text = '/Users/bidishadasbaksi/Docs_no_icloud/Documents – Bidisha’s MacBook Pro/ Personal_docs Intuit Laptop/USC Journey/Spring 2022/CSCI-535 Multimodal/Project/segmented/feature_combined.csv'\n"
   ]
  },
  {
   "cell_type": "code",
   "execution_count": 46,
   "id": "077150f7",
   "metadata": {},
   "outputs": [],
   "source": [
    "df = pd.read_csv(csv_file_text,header=None)\n",
    "df = df[(df[70]== 'D') | (df[70]== 'Ah') | (df[70]== 'Ih') | (df[70]== 'Z') | (df[70]== 'W') | (df[70]== '0')  ]\n",
    "unique_classes = df[70].unique().tolist()\n",
    "unique_classes.remove('0')\n",
    "indexes = [i for i in range(len(unique_classes))]\n",
    "replace_dict = {unique_classes[i]:i for i in indexes}\n",
    "replace_dict['0']=len(unique_classes)\n",
    "df[[70]] = df[[70]].replace(replace_dict)                                                              \n",
    "                                                              "
   ]
  },
  {
   "cell_type": "code",
   "execution_count": 49,
   "id": "ac1586cf",
   "metadata": {},
   "outputs": [],
   "source": [
    "df_list  = df.values.tolist()\n",
    "df_list_n_x = list()\n",
    "df_l_sub_x=list()\n",
    "df_list_n_y = list()\n",
    "df_l_sub_y=list()\n",
    "for i in df_list:\n",
    "    if(i[0]!=0):\n",
    "        l = i[1:len(i)-1]\n",
    "        l.insert(0,float(i[0]))\n",
    "        df_l_sub_x.append(l)\n",
    "        df_l_sub_y.append(i[len(i)-1])\n",
    "    else:\n",
    "        if(len(df_l_sub_x)>0):\n",
    "            df_list_n_x.append(df_l_sub_x)\n",
    "            df_list_n_y.append(df_l_sub_y)\n",
    "        df_l_sub_x=list()\n",
    "        df_l_sub_y=list()"
   ]
  },
  {
   "cell_type": "code",
   "execution_count": 50,
   "id": "9633f25e",
   "metadata": {},
   "outputs": [],
   "source": [
    "X_train, X_test, Y_train, Y_test = train_test_split(df_list_n_x, df_list_n_y, test_size=0.33, random_state=12)\n",
    "X_train, X_val, Y_train, Y_val = train_test_split(X_train, Y_train, test_size=0.25, random_state=123)\n",
    "\n",
    "\n",
    "\n"
   ]
  },
  {
   "cell_type": "code",
   "execution_count": 51,
   "id": "c38e4182",
   "metadata": {},
   "outputs": [],
   "source": [
    "word_dict=dict()\n",
    "word_dict['<PAD>'] = 10"
   ]
  },
  {
   "cell_type": "code",
   "execution_count": 52,
   "id": "9bf956c4",
   "metadata": {},
   "outputs": [],
   "source": [
    "class Dataset(Dataset):\n",
    "    def __init__(self, data,label):\n",
    "        'Initialization'\n",
    "        dim_size = len(data[0][0])\n",
    "        data_lengths= [len(frame) for frame in data]\n",
    "        data_lengths_copy = [len(frame) for frame in data]\n",
    "        data_lengths_copy.sort()\n",
    "        pad_token = word_dict['<PAD>']\n",
    "        longest_frame = data_lengths_copy[-2]\n",
    "        print(longest_frame)\n",
    "        b_s = len(data_lengths)\n",
    "        padded_X = np.ones((b_s, longest_frame,dim_size)) * pad_token\n",
    "        padded_Y = np.ones((b_s,longest_frame)) * pad_token\n",
    "        \n",
    "        print(padded_X.shape)\n",
    "        print(len(data_lengths))\n",
    "        for i, d_len in enumerate(data_lengths):\n",
    "            sequence = data[i]\n",
    "            sequence_y = label[i]\n",
    "#             if(d_len>longest_frame):\n",
    "            if(d_len>longest_frame):\n",
    "                continue\n",
    "#             print(i)\n",
    "#             print(sequence)\n",
    "            \n",
    "            padded_X[i, (longest_frame-d_len):] = sequence[:longest_frame]\n",
    "            padded_Y[i,(longest_frame-d_len):] = sequence_y[:longest_frame]\n",
    "        self.data = torch.Tensor(padded_X)\n",
    "        self.label = torch.LongTensor(padded_Y)\n",
    "        self.original_data = data\n",
    "        self.original_label = label\n",
    "        \n",
    "    def __len__(self):\n",
    "        return len(self.data)\n",
    "\n",
    "    def __getitem__(self, index):\n",
    "        X= self.data[index]\n",
    "        y = self.label[index]\n",
    "        return (X, y)"
   ]
  },
  {
   "cell_type": "code",
   "execution_count": 53,
   "id": "4d10e9d5",
   "metadata": {},
   "outputs": [
    {
     "name": "stdout",
     "output_type": "stream",
     "text": [
      "125\n",
      "(1795, 125, 70)\n",
      "1795\n",
      "98\n",
      "(599, 98, 70)\n",
      "599\n",
      "104\n",
      "(1180, 104, 70)\n",
      "1180\n"
     ]
    }
   ],
   "source": [
    "train_data = Dataset( X_train,Y_train)\n",
    "val_data = Dataset(X_val,Y_val)\n",
    "test_data = Dataset(X_test,Y_test)"
   ]
  },
  {
   "cell_type": "code",
   "execution_count": 54,
   "id": "c19ac074",
   "metadata": {},
   "outputs": [
    {
     "data": {
      "text/plain": [
       "torch.Size([1795, 125])"
      ]
     },
     "execution_count": 54,
     "metadata": {},
     "output_type": "execute_result"
    }
   ],
   "source": [
    "train_data.label.shape"
   ]
  },
  {
   "cell_type": "code",
   "execution_count": 55,
   "id": "8cb7ea85",
   "metadata": {},
   "outputs": [],
   "source": [
    "num_train = len(X_train)\n",
    "indices_train = list(range(num_train))\n",
    "np.random.shuffle(indices_train)\n",
    "\n",
    "\n",
    "\n",
    "num_dev = len(X_val)\n",
    "indices_dev = list(range(num_dev))\n",
    "np.random.shuffle(indices_dev)\n",
    "\n",
    "train_sampler = SubsetRandomSampler(indices_train)\n",
    "dev_sampler = SubsetRandomSampler(indices_dev)\n",
    "\n",
    "batch_size=8\n",
    "\n",
    "train_loader= torch.utils.data.DataLoader(train_data, batch_size=batch_size,\n",
    "    sampler=train_sampler, num_workers=0,)\n",
    "dev_loader = torch.utils.data.DataLoader(val_data, batch_size=batch_size, \n",
    "    sampler=dev_sampler, num_workers=0)\n",
    "\n",
    "\n",
    "dev_loader_without_sampler = torch.utils.data.DataLoader(test_data, batch_size=batch_size, num_workers=0)\n",
    "\n",
    "\n",
    "test_loader = torch.utils.data.DataLoader(test_data, batch_size=batch_size, num_workers=0)\n"
   ]
  },
  {
   "cell_type": "code",
   "execution_count": 56,
   "id": "57cdc313",
   "metadata": {},
   "outputs": [],
   "source": [
    "test_loader_one = torch.utils.data.DataLoader( test_data, batch_size=1, num_workers=0)\n"
   ]
  },
  {
   "cell_type": "code",
   "execution_count": 57,
   "id": "daaa50e4",
   "metadata": {},
   "outputs": [],
   "source": [
    "is_cuda = torch.cuda.is_available()\n",
    "\n",
    "if is_cuda:\n",
    "    device = torch.device(\"cuda\")\n",
    "else:\n",
    "    device = torch.device(\"cpu\")"
   ]
  },
  {
   "cell_type": "code",
   "execution_count": 58,
   "id": "53ad98d3",
   "metadata": {},
   "outputs": [],
   "source": [
    "class GRUNet(nn.Module):\n",
    "    def __init__(self, input_size, output_size, hidden_dim, n_layers):\n",
    "        super(GRUNet, self).__init__()\n",
    "        self.hidden_dim = hidden_dim\n",
    "        self.n_layers = n_layers\n",
    "        self.rnn = nn.GRU(input_size, hidden_dim, n_layers, batch_first=True)\n",
    "        self.fc = nn.Linear(hidden_dim, output_size)\n",
    "        self.relu = nn.ReLU()\n",
    "    \n",
    "    def forward(self, x):\n",
    "        \n",
    "        batch_size = x.size(0)\n",
    "        hidden = self.init_hidden(batch_size)\n",
    "        out, hidden = self.rnn(x, hidden)\n",
    "        tag_space = self.fc(out)\n",
    "        tag_scores = F.log_softmax(tag_space, dim=2)\n",
    "        return tag_scores.view(batch_size*len(x[0]),-1)\n",
    "    \n",
    "    def init_hidden(self, batch_size):\n",
    "        hidden = torch.zeros(self.n_layers, batch_size, self.hidden_dim)\n",
    "        return hidden"
   ]
  },
  {
   "cell_type": "code",
   "execution_count": 59,
   "id": "d40fb3bb",
   "metadata": {},
   "outputs": [
    {
     "data": {
      "text/plain": [
       "<All keys matched successfully>"
      ]
     },
     "execution_count": 59,
     "metadata": {},
     "output_type": "execute_result"
    }
   ],
   "source": [
    "new_model = GRUNet(70,6,30,1)\n",
    "new_model.load_state_dict(torch.load('grunet_early_v2.pt'))"
   ]
  },
  {
   "cell_type": "code",
   "execution_count": 60,
   "id": "7ee0aa1e",
   "metadata": {},
   "outputs": [],
   "source": [
    "loss_function_glove = nn.CrossEntropyLoss(ignore_index=word_dict['<PAD>'])\n",
    "optimizer_glove = optim.SGD(new_model.parameters(), lr= 0.1 )\n",
    "scheduler_glove = optim.lr_scheduler.ReduceLROnPlateau(optimizer_glove,  mode='min',patience=3,factor=0.9)\n"
   ]
  },
  {
   "cell_type": "code",
   "execution_count": 61,
   "id": "57cb9a30",
   "metadata": {},
   "outputs": [],
   "source": [
    "best_valid_loss = float(100)"
   ]
  },
  {
   "cell_type": "code",
   "execution_count": 25,
   "id": "b943dd76",
   "metadata": {},
   "outputs": [],
   "source": [
    "def train_rnn(new_model,best_valid_loss):\n",
    "    for epoch in range(100):  \n",
    "        train_loss = 0.0\n",
    "        valid_loss = 0.0\n",
    "        new_model.train()\n",
    "        for dataset, target in train_loader:\n",
    "            new_model.zero_grad()\n",
    "            tag_scores = new_model(dataset)\n",
    "            target = target.view(target.shape[0]*len(dataset[0]))\n",
    "            loss = loss_function_glove(tag_scores,target)\n",
    "            loss.backward()\n",
    "            optimizer_glove.step()\n",
    "            train_loss += loss.item()*dataset.size(0)\n",
    "        new_model.eval() \n",
    "        with torch.no_grad():\n",
    "            for dataset, target in dev_loader:\n",
    "                tag_scores = new_model(dataset)\n",
    "                target = target.view(target.shape[0]*len(dataset[0]))\n",
    "                loss = loss_function_glove(tag_scores,target)\n",
    "                valid_loss += loss.item()*dataset.size(0)\n",
    "        train_loss = train_loss/len(train_loader.dataset)\n",
    "        valid_loss = valid_loss/len(dev_loader.dataset)\n",
    "        print('Time: {} \\tEpoch: {} \\tTraining Loss: {:.6f} \\tValidation Loss: {:.6f}'.format(\n",
    "                    datetime.datetime.now(),\n",
    "                    epoch+1, \n",
    "                    train_loss,\n",
    "                    valid_loss\n",
    "                    ))\n",
    "        if(valid_loss < best_valid_loss):\n",
    "            best_valid_loss = valid_loss\n",
    "            torch.save(new_model.state_dict(), 'grunet_early_v2.pt')\n",
    "        scheduler_glove.step(valid_loss)\n",
    "    return best_valid_loss"
   ]
  },
  {
   "cell_type": "code",
   "execution_count": null,
   "id": "8e3e86e9",
   "metadata": {},
   "outputs": [],
   "source": [
    "best_valid_loss = train_rnn(new_model,best_valid_loss)"
   ]
  },
  {
   "cell_type": "code",
   "execution_count": 62,
   "id": "42316cbb",
   "metadata": {},
   "outputs": [],
   "source": [
    "def predict(model, dataloader):\n",
    "    prediction_list = []\n",
    "    test_data_list = []\n",
    "    for data, target in dataloader:\n",
    "        outputs = model(data)\n",
    "        for i,dat in enumerate(outputs.data):\n",
    "            predicted = torch.argmax(dat)\n",
    "            if(target[0][i]!=torch.tensor(word_dict['<PAD>']) ):\n",
    "                prediction_list.append(predicted)\n",
    "                test_data_list.append(target[0][i])\n",
    "    return (test_data_list,prediction_list)"
   ]
  },
  {
   "cell_type": "code",
   "execution_count": 65,
   "id": "a31e1058",
   "metadata": {},
   "outputs": [],
   "source": [
    "predictions = predict(new_model,test_loader_one)"
   ]
  },
  {
   "cell_type": "code",
   "execution_count": 66,
   "id": "0e672062",
   "metadata": {},
   "outputs": [],
   "source": [
    "pred = np.array(predictions[1])\n",
    "targ = np.array(predictions[0])\n"
   ]
  },
  {
   "cell_type": "markdown",
   "id": "c75c80af",
   "metadata": {},
   "source": [
    "## Accuracy"
   ]
  },
  {
   "cell_type": "code",
   "execution_count": 67,
   "id": "01de06c9",
   "metadata": {
    "scrolled": true
   },
   "outputs": [
    {
     "data": {
      "text/plain": [
       "0.6670715505788575"
      ]
     },
     "execution_count": 67,
     "metadata": {},
     "output_type": "execute_result"
    }
   ],
   "source": [
    "metrics.accuracy_score(targ, pred)\n"
   ]
  },
  {
   "cell_type": "markdown",
   "id": "5f9deabc",
   "metadata": {},
   "source": [
    "## F1 score"
   ]
  },
  {
   "cell_type": "code",
   "execution_count": 68,
   "id": "7a63c539",
   "metadata": {},
   "outputs": [
    {
     "data": {
      "text/plain": [
       "0.668161950276076"
      ]
     },
     "execution_count": 68,
     "metadata": {},
     "output_type": "execute_result"
    }
   ],
   "source": [
    "metrics.f1_score(targ, pred,average='weighted')\n"
   ]
  },
  {
   "cell_type": "markdown",
   "id": "67885f6a",
   "metadata": {},
   "source": [
    "## Confusion Matrix"
   ]
  },
  {
   "cell_type": "code",
   "execution_count": 69,
   "id": "f93aaa46",
   "metadata": {},
   "outputs": [
    {
     "data": {
      "text/plain": [
       "array([[3116,    0,    0, 3124,    0],\n",
       "       [   1, 2923,    0, 2911,    0],\n",
       "       [   0,    0, 1424, 1409,    0],\n",
       "       [   1,    0,    0, 8653,    0],\n",
       "       [   0,    0,    0, 1325, 1458]])"
      ]
     },
     "execution_count": 69,
     "metadata": {},
     "output_type": "execute_result"
    }
   ],
   "source": [
    "metrics.confusion_matrix(targ, pred)"
   ]
  },
  {
   "cell_type": "code",
   "execution_count": 70,
   "id": "4bfcf3d8",
   "metadata": {},
   "outputs": [
    {
     "data": {
      "image/png": "[encoded data removed]",
      "text/plain": [
       "<Figure size 432x288 with 2 Axes>"
      ]
     },
     "metadata": {
      "needs_background": "light"
     },
     "output_type": "display_data"
    }
   ],
   "source": [
    "conf = metrics.confusion_matrix(targ, pred)\n",
    "df = pd.DataFrame(conf, range(5), range(5))\n",
    "sns.heatmap(df, annot=True)\n",
    "plt.show()"
   ]
  },
  {
   "cell_type": "code",
   "execution_count": 71,
   "id": "0dec049d",
   "metadata": {},
   "outputs": [],
   "source": [
    "def calculate_acc_per_class(confusion_matrix):\n",
    "    classes_ = []\n",
    "    f1_score = []\n",
    "    for class_ in range(5):\n",
    "        classes_k = {}\n",
    "        fp = 0\n",
    "        fn = 0\n",
    "        tn = 0\n",
    "        for i in range(len(confusion_matrix)):\n",
    "            for j in range(len(confusion_matrix[i])):\n",
    "                if (i == j) and (i==class_):\n",
    "                    classes_k['tp'] = confusion_matrix[i][j]\n",
    "                elif (i == class_):\n",
    "                    fp += confusion_matrix[i][j]\n",
    "                elif (j == class_):\n",
    "                    fn += confusion_matrix[i][j]\n",
    "                else:\n",
    "                    tn += confusion_matrix[i][j]\n",
    "        classes_k['tn'] = tn\n",
    "        classes_k['fp'] = fp\n",
    "        classes_k['fn'] = fn\n",
    "        classes_k['precision'] = classes_k['tp']/(classes_k['tp'] + fp)\n",
    "        classes_k['recall'] = classes_k['tp']/(classes_k['tp'] + fn)\n",
    "        classes_k['f1_score'] =(2* classes_k['precision']  * classes_k['recall']) /(classes_k['precision']  + classes_k['recall'] )\n",
    "        f1_score.append(classes_k['f1_score'])\n",
    "        classes_.append(classes_k) \n",
    "    f1_score_macro = sum(f1_score)/len(f1_score)\n",
    "    return classes_, f1_score_macro"
   ]
  },
  {
   "cell_type": "code",
   "execution_count": 72,
   "id": "42fc0425",
   "metadata": {},
   "outputs": [],
   "source": [
    "res = calculate_acc_per_class(conf)"
   ]
  },
  {
   "cell_type": "code",
   "execution_count": 73,
   "id": "7a2ac3bd",
   "metadata": {},
   "outputs": [
    {
     "data": {
      "text/plain": [
       "([{'tp': 3116,\n",
       "   'tn': 20103,\n",
       "   'fp': 3124,\n",
       "   'fn': 2,\n",
       "   'precision': 0.49935897435897436,\n",
       "   'recall': 0.9993585631815266,\n",
       "   'f1_score': 0.6659542637315665},\n",
       "  {'tp': 2923,\n",
       "   'tn': 20510,\n",
       "   'fp': 2912,\n",
       "   'fn': 0,\n",
       "   'precision': 0.500942587832048,\n",
       "   'recall': 1.0,\n",
       "   'f1_score': 0.6675039963461977},\n",
       "  {'tp': 1424,\n",
       "   'tn': 23512,\n",
       "   'fp': 1409,\n",
       "   'fn': 0,\n",
       "   'precision': 0.5026473702788563,\n",
       "   'recall': 1.0,\n",
       "   'f1_score': 0.6690157387831807},\n",
       "  {'tp': 8653,\n",
       "   'tn': 8922,\n",
       "   'fp': 1,\n",
       "   'fn': 8769,\n",
       "   'precision': 0.9998844464987289,\n",
       "   'recall': 0.49667087590402936,\n",
       "   'f1_score': 0.6636754103390091},\n",
       "  {'tp': 1458,\n",
       "   'tn': 23562,\n",
       "   'fp': 1325,\n",
       "   'fn': 0,\n",
       "   'precision': 0.523895077254761,\n",
       "   'recall': 1.0,\n",
       "   'f1_score': 0.6875736854515444}],\n",
       " 0.6707446189302997)"
      ]
     },
     "execution_count": 73,
     "metadata": {},
     "output_type": "execute_result"
    }
   ],
   "source": [
    "res"
   ]
  },
  {
   "cell_type": "code",
   "execution_count": null,
   "id": "69df3550",
   "metadata": {},
   "outputs": [],
   "source": []
  }
 ],
 "metadata": {
  "kernelspec": {
   "display_name": "Python 3",
   "language": "python",
   "name": "python3"
  },
  "language_info": {
   "codemirror_mode": {
    "name": "ipython",
    "version": 3
   },
   "file_extension": ".py",
   "mimetype": "text/x-python",
   "name": "python",
   "nbconvert_exporter": "python",
   "pygments_lexer": "ipython3",
   "version": "3.8.8"
  }
 },
 "nbformat": 4,
 "nbformat_minor": 5
}
